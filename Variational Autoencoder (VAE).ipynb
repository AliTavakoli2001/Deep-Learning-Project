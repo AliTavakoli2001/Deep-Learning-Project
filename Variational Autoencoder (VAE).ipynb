{
  "cells": [
    {
      "cell_type": "markdown",
      "metadata": {
        "id": "view-in-github",
        "colab_type": "text"
      },
      "source": [
        "<a href=\"https://colab.research.google.com/github/AliTavakoli2001/Deep-Learning-Project/blob/main/Variational%20Autoencoder%20(VAE).ipynb\" target=\"_parent\"><img src=\"https://colab.research.google.com/assets/colab-badge.svg\" alt=\"Open In Colab\"/></a>"
      ]
    },
    {
      "cell_type": "code",
      "source": [
        "import tensorflow as tf\n",
        "from tensorflow.keras.layers import Input, Dense, Lambda, Layer\n",
        "from tensorflow.keras.models import Model\n",
        "from tensorflow.keras.losses import binary_crossentropy\n",
        "from tensorflow.keras.datasets import mnist\n",
        "import numpy as np\n",
        "import matplotlib.pyplot as plt\n",
        "\n",
        "# Load and preprocess MNIST dataset\n",
        "(x_train, _), (x_test, _) = mnist.load_data()\n",
        "x_train = x_train.astype('float32') / 255.\n",
        "x_test = x_test.astype('float32') / 255.\n",
        "x_train = x_train.reshape((len(x_train), -1))\n",
        "x_test = x_test.reshape((len(x_test), -1))\n",
        "\n",
        "# Define VAE architecture\n",
        "latent_dim = 2  # Dimension of the latent space\n",
        "input_shape = x_train.shape[1]\n",
        "\n",
        "# Encoder\n",
        "inputs = Input(shape=(input_shape,))\n",
        "h = Dense(256, activation='relu')(inputs)\n",
        "z_mean = Dense(latent_dim)(h)\n",
        "z_log_var = Dense(latent_dim)(h)\n",
        "\n",
        "def sampling(args):\n",
        "    z_mean, z_log_var = args\n",
        "    batch = tf.shape(z_mean)[0]\n",
        "    dim = tf.shape(z_mean)[1]\n",
        "    epsilon = tf.keras.backend.random_normal(shape=(batch, dim))\n",
        "    return z_mean + tf.exp(0.5 * z_log_var) * epsilon\n",
        "\n",
        "z = Lambda(sampling, output_shape=(latent_dim,))([z_mean, z_log_var])\n",
        "encoder = Model(inputs, [z_mean, z_log_var, z], name='encoder')\n",
        "\n",
        "# Decoder\n",
        "decoder_input = Input(shape=(latent_dim,))\n",
        "decoder_h = Dense(256, activation='relu')(decoder_input)\n",
        "decoder_output = Dense(input_shape, activation='sigmoid')(decoder_h)\n",
        "decoder = Model(decoder_input, decoder_output, name='decoder')\n",
        "\n",
        "# VAE Model\n",
        "outputs = decoder(z)\n",
        "vae = Model(inputs, outputs, name='vae')\n",
        "\n",
        "# VAE Loss\n",
        "reconstruction_loss = binary_crossentropy(inputs, outputs) * input_shape\n",
        "kl_loss = -0.5 * tf.reduce_sum(1 + z_log_var - tf.square(z_mean) - tf.exp(z_log_var), axis=-1)\n",
        "vae_loss = tf.reduce_mean(reconstruction_loss + kl_loss)\n",
        "vae.add_loss(vae_loss)\n",
        "vae.compile(optimizer='adam')\n",
        "\n",
        "# Train the VAE\n",
        "history = vae.fit(x_train, epochs=50, batch_size=256, validation_data=(x_test, None))\n",
        "\n",
        "# Generate new images\n",
        "encoded_imgs, _, _ = encoder.predict(x_test)\n",
        "decoded_imgs = decoder.predict(encoded_imgs)\n",
        "\n",
        "# Visualization\n",
        "def plot_results(x_test, decoded_imgs, n=10):\n",
        "    plt.figure(figsize=(20, 4))\n",
        "    for i in range(n):\n",
        "        ax = plt.subplot(2, n, i + 1)\n",
        "        plt.imshow(x_test[i].reshape(28, 28), cmap='gray')\n",
        "        plt.axis('off')\n",
        "        if i == 0:\n",
        "            ax.set_title(\"Test Images\")\n",
        "\n",
        "        ax = plt.subplot(2, n, i + 1 + n)\n",
        "        plt.imshow(decoded_imgs[i].reshape(28, 28), cmap='gray')\n",
        "        plt.axis('off')\n",
        "        if i == 0:\n",
        "            ax.set_title(\"Decoded Images\")\n",
        "    plt.show()\n",
        "\n",
        "plot_results(x_test, decoded_imgs)\n"
      ],
      "metadata": {
        "id": "1ETsVh_5ezZj"
      },
      "execution_count": null,
      "outputs": []
    }
  ],
  "metadata": {
    "colab": {
      "name": "Welcome To Colab",
      "toc_visible": true,
      "provenance": [],
      "include_colab_link": true
    },
    "kernelspec": {
      "display_name": "Python 3",
      "name": "python3"
    }
  },
  "nbformat": 4,
  "nbformat_minor": 0
}